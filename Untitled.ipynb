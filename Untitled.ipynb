{
 "cells": [
  {
   "cell_type": "code",
   "execution_count": 31,
   "metadata": {
    "collapsed": false
   },
   "outputs": [],
   "source": [
    "import subprocess\n",
    "import os"
   ]
  },
  {
   "cell_type": "code",
   "execution_count": 38,
   "metadata": {
    "collapsed": false
   },
   "outputs": [],
   "source": [
    "for f in os.listdir('.'):\n",
    "    if f.endswith(\".py\"):\n",
    "        file_name = f\n",
    "        str_to_exe = \"import \" + file_name\n",
    "        str_to_exe = \"python \"+file_name\n",
    "        str_log_name = os.path.splitext(file_name)[0]+\".log\"\n",
    "        process = subprocess.Popen(\n",
    "            [\"python\",file_name],\n",
    "            shell  = False,\n",
    "            stdin  = subprocess.PIPE,\n",
    "            stdout = subprocess.PIPE,\n",
    "            stderr = subprocess.PIPE,\n",
    "            universal_newlines = True\n",
    "        )\n",
    "        process.stdin.write('2\\n')\n",
    "        process.stdin.write('0\\n')\n",
    "        process.stdin.write('2\\n')\n",
    "        process.stdin.write('110\\n')\n",
    "        process.stdin.write('2\\n')\n",
    "        process.stdin.write('111\\n')\n",
    "        process.stdin.write('2\\n')\n",
    "        process.stdin.write('10101\\n')\n",
    "        process.stdin.write('10\\n')\n",
    "        process.stdin.write('0\\n')\n",
    "        process.stdin.write('10\\n')\n",
    "        process.stdin.write('15\\n')\n",
    "        process.stdin.write('10\\n')\n",
    "        process.stdin.write('16\\n')\n",
    "        process.stdin.write('10\\n')\n",
    "        process.stdin.write('242401\\n')\n",
    "        stdout, stderr = process.communicate('0\\n')\n",
    "        exit_status = process.wait()\n",
    "        f = open(str_log_name, 'w')\n",
    "        f.write(\"OUTPUT:\\n\\n\")\n",
    "        f.write(stdout)\n",
    "        f.write(\"\\nERRORES:\\n\\n\")\n",
    "        f.write(stderr)\n",
    "        f.close()"
   ]
  }
 ],
 "metadata": {
  "kernelspec": {
   "display_name": "Python 2",
   "language": "python",
   "name": "python2"
  },
  "language_info": {
   "codemirror_mode": {
    "name": "ipython",
    "version": 2
   },
   "file_extension": ".py",
   "mimetype": "text/x-python",
   "name": "python",
   "nbconvert_exporter": "python",
   "pygments_lexer": "ipython2",
   "version": "2.7.11"
  }
 },
 "nbformat": 4,
 "nbformat_minor": 0
}
